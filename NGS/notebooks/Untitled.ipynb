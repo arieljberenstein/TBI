{
 "cells": [
  {
   "cell_type": "code",
   "execution_count": 1,
   "metadata": {},
   "outputs": [
    {
     "name": "stderr",
     "output_type": "stream",
     "text": [
      "/usr/local/lib/python2.7/dist-packages/IPython/core/interactiveshell.py:2718: DtypeWarning: Columns (0) have mixed types. Specify dtype option on import or set low_memory=False.\n",
      "  interactivity=interactivity, compiler=compiler, result=result)\n"
     ]
    }
   ],
   "source": [
    "import pandas as pd\n",
    "\n",
    "# grep -v \"^#\" CEDIE1A.vcf | awk '{if ($2 > 10) print $1, $2, $2+1;  else print $1, 0, $2+1; }' |tr ' ' '\\t' > CEDIE1A.vcf.bed\n",
    "#run = 'coverageBed -a CEDIE1A.vcf.bed -b ~/Dropbox/UBIT/casos/caso1BZ/agilent_region.bed >testcov.tsv'\n",
    "#os.system(run)\n",
    "coverage = pd.read_table('/home/ariel/Projects/Gutierrez/CEDIE/201803/vcfs/testcov.tsv',header = None)"
   ]
  },
  {
   "cell_type": "code",
   "execution_count": 16,
   "metadata": {},
   "outputs": [
    {
     "data": {
      "text/plain": [
       "0.0    563226\n",
       "1.0     55319\n",
       "Name: 6, dtype: int64"
      ]
     },
     "execution_count": 16,
     "metadata": {},
     "output_type": "execute_result"
    }
   ],
   "source": [
    "coverage.ix[:,6].value_counts()"
   ]
  },
  {
   "cell_type": "code",
   "execution_count": 17,
   "metadata": {},
   "outputs": [],
   "source": [
    "from pyensembl import EnsemblRelease as ensbl\n",
    "ensemble_version = 75\n",
    "data = ensbl(ensemble_version)\n"
   ]
  },
  {
   "cell_type": "code",
   "execution_count": 52,
   "metadata": {},
   "outputs": [
    {
     "name": "stdout",
     "output_type": "stream",
     "text": [
      "[56602]\n"
     ]
    }
   ],
   "source": [
    "def get_bed_locus_info_from_gene_name(gene):\n",
    "    exon = data.exon_ids_of_gene_name('STAT1')\n",
    "    exonLocus = [data.locus_of_exon_id(e) for e in exon]\n",
    "\n",
    "    elen =  [(e.to_dict()['start'],e.to_dict()['end']) for e in exonLocus]\n",
    "\n",
    "    whole_gen = data.loci_of_gene_names('STAT1')\n",
    "    whole_gen_len = [whole_gen[0].to_dict()['end']-whole_gen[0].to_dict()['start']]\n"
   ]
  },
  {
   "cell_type": "code",
   "execution_count": 86,
   "metadata": {},
   "outputs": [
    {
     "name": "stderr",
     "output_type": "stream",
     "text": [
      "ERROR:root:Line magic function `%del` not found.\n"
     ]
    }
   ],
   "source": [
    "#get_locis(['STAT1','STAT4'],ref = 37,outpath='./',write_bedfile=True)\n",
    "%del gen"
   ]
  },
  {
   "cell_type": "code",
   "execution_count": null,
   "metadata": {},
   "outputs": [],
   "source": [
    "def get_locis(genelist,ref,outpath,write_bedfile = True):\n",
    "    analyzed_genes = []\n",
    "    try:\n",
    "        if (ref == 37)|(ref == 19):\n",
    "            ensemble_version = 75\n",
    "    except:\n",
    "        'You must to install the ensemble version 75, please run \\n'        \n",
    "        'pyensembl install --release 75 --species homo_sapiens \\n'\n",
    "    try:\n",
    "        if ref == 38:\n",
    "            ensemble_version = 87\n",
    "    except:\n",
    "        'You must to install latest ensemble version (87), please run \\n'        \n",
    "        'pyensembl install --release 87 --species homo_sapiens \\n'\n",
    "        \n",
    "    data = ensbl(ensemble_version)\n",
    "\n",
    "    ############ By the whole Gene #############\n",
    "    locis = []\n",
    "    for gen in genelist:\n",
    "        try:\n",
    "            loc =  data.loci_of_gene_names(gen)\n",
    "            locis.append(loc[0].to_dict())\n",
    "            analyzed_genes.append(gen)\n",
    "        except:\n",
    "            print 'warning, gen %s was not found and ignored'%gen\n",
    "#    return pd.concat(locis)\n",
    "    print '\\n'\n",
    "    ggenes = analyzed_genes\n",
    "    \n",
    "    locis = pd.DataFrame(locis)\n",
    "    locis['name'] = ggenes\n",
    "    locis.rename(columns = {'contig':'chrom'},inplace = True)\n",
    "    locis['score'] = 0 ## this is only for completness, in order to recognize strand as the right next field\n",
    "    locis = locis[['chrom','start','end','name','score','strand']]\n",
    "    \n",
    "    # write file\n",
    "    bedfile = outpath+'gene_loci.bed'\n",
    "    if write_bedfile:\n",
    "        locis.to_csv(bedfile,sep = '\\t',index = False,header = None)    \n",
    "\n",
    "        \n",
    "    return locis, bedfile, locis.columns\n",
    "\n"
   ]
  },
  {
   "cell_type": "code",
   "execution_count": 10,
   "metadata": {},
   "outputs": [],
   "source": [
    "import sys"
   ]
  },
  {
   "cell_type": "code",
   "execution_count": 19,
   "metadata": {},
   "outputs": [],
   "source": [
    "from pyensembl import EnsemblRelease as ensbl\n",
    "def get_exons(genelist,ref,outpath,write_bedfile = True):\n",
    "    analyzed_genes = []\n",
    "    try:\n",
    "        if (ref == 37)|(ref == 19):\n",
    "            ensemble_version = 75\n",
    "    except:\n",
    "        'You must to install the ensemble version 75, please run \\n'        \n",
    "        'pyensembl install --release 75 --species homo_sapiens \\n'\n",
    "    try:\n",
    "        if ref == 38:\n",
    "            ensemble_version = 87\n",
    "    except:\n",
    "        'You must to install latest ensemble version (87), please run \\n'        \n",
    "        'pyensembl install --release 87 --species homo_sapiens \\n'\n",
    "        \n",
    "    data = ensbl(ensemble_version)\n",
    "    ############ By Exons #############\n",
    "    exonbed = []\n",
    "    for gene in genelist:\n",
    "        try:\n",
    "            exons = data.exon_ids_of_gene_name(gene)\n",
    "            exonLocus = [data.locus_of_exon_id(e) for e in exons]\n",
    "            exonLoci = [ex.to_dict() for ex in exonLocus]\n",
    "            exonLoci = pd.DataFrame(exonLoci)\n",
    "            exonLoci['name'] = exons\n",
    "            exonLoci['gene'] = [gene]*len(exons)\n",
    "            exonLoci.rename(columns = {'contig':'chrom'},inplace = True)\n",
    "            exonLoci['score'] = 0 ## this is only for completness, in order to recognize strand as the right next field\n",
    "            exonLoci = exonLoci[['chrom','start','end','name','score','strand','gene']]\n",
    "            exonbed.append(exonLoci)\n",
    "            analyzed_genes.append(gene)\n",
    "        except:\n",
    "            print 'warning, gene %s was not found and ignored'%gene\n",
    "            sys.exc_info()[0]\n",
    "#    return pd.concat(locis)\n",
    "    print '\\n'\n",
    "    exonbed = pd.concat(exonbed)\n",
    "    \n",
    "    # write file\n",
    "    exonbedfile = outpath+'exons_loci.bed'\n",
    "\n",
    "    if write_bedfile:\n",
    "        exonbed.to_csv(exonbedfile,sep = '\\t',index = False,header = None)\n",
    "    \n",
    "        \n",
    "    return exonbed, exonbedfile, exonbed.columns\n",
    "\n",
    "    \n"
   ]
  },
  {
   "cell_type": "code",
   "execution_count": 20,
   "metadata": {},
   "outputs": [
    {
     "name": "stdout",
     "output_type": "stream",
     "text": [
      "\n",
      "\n"
     ]
    }
   ],
   "source": [
    "bed, bedfile, columns = get_exons(['STAT1','STAT4'],ref = 37,outpath='./',write_bedfile=True)"
   ]
  },
  {
   "cell_type": "code",
   "execution_count": 21,
   "metadata": {},
   "outputs": [],
   "source": [
    " exome_coverage = pd.read_table('./test_output/exons_loci.bed.tsv')"
   ]
  },
  {
   "cell_type": "code",
   "execution_count": 52,
   "metadata": {},
   "outputs": [],
   "source": [
    "exome_report = exome_coverage.groupby(['score'])[['coverage_dp1','len_gen_bp','bp_at_10dp','bp_at_20dp','bp_at_30dp']].sum()\n",
    "rel = exome_report.apply(lambda x:x/float(x['len_gen_bp']),axis = 1).drop([u'len_gen_bp'],axis = 1)\n",
    "exome_report = exome_report[['len_gen_bp']].join(rel)\n",
    "\n"
   ]
  },
  {
   "cell_type": "code",
   "execution_count": 87,
   "metadata": {},
   "outputs": [],
   "source": [
    "def get_locis(genelist,ref,outpath,write_bedfile = True):\n",
    "    analyzed_genes = []\n",
    "    try:\n",
    "        if (ref == 37)|(ref == 19):\n",
    "            ensemble_version = 75\n",
    "    except:\n",
    "        'You must to install the ensemble version 75, please run \\n'        \n",
    "        'pyensembl install --release 75 --species homo_sapiens \\n'\n",
    "    try:\n",
    "        if ref == 38:\n",
    "            ensemble_version = 87\n",
    "    except:\n",
    "        'You must to install latest ensemble version (87), please run \\n'        \n",
    "        'pyensembl install --release 87 --species homo_sapiens \\n'\n",
    "        \n",
    "    data = ensbl(ensemble_version)\n",
    "    locis = []\n",
    "\n",
    "    for gen in genelist:\n",
    "        try:\n",
    "            loc =  data.loci_of_gene_names(gen)\n",
    "            locis.append(loc[0].to_dict())\n",
    "            analyzed_genes.append(gen)\n",
    "        except ValueError:\n",
    "            print 'warning, gen %s was not found and ignored'%gen\n",
    "#    return pd.concat(locis)\n",
    "    print '\\n'\n",
    "    ggenes = analyzed_genes\n",
    "    locis = pd.DataFrame(locis)\n",
    "    locis['name'] = ggenes\n",
    "    locis.rename(columns = {'contig':'chrom'},inplace = True)\n",
    "    locis['score'] = 0 ## this is only for completness, in order to recognize strand as the right next field\n",
    "    locis = locis[['chrom','start','end','name','score','strand']]\n",
    "    \n",
    "    # write file\n",
    "    bedfile = outpath+'gene_loci.bed'\n",
    "    if write_bedfile:\n",
    "        locis.to_csv(bedfile,sep = '\\t',index = False,header = None)\n",
    "        \n",
    "    return locis, bedfile, locis.columns\n"
   ]
  },
  {
   "cell_type": "code",
   "execution_count": 88,
   "metadata": {},
   "outputs": [
    {
     "name": "stdout",
     "output_type": "stream",
     "text": [
      "\n",
      "\n"
     ]
    }
   ],
   "source": [
    "a,b,c =get_locis(['STAT1','STAT3','IGHM'],ref = 37, outpath = './',write_bedfile=False)"
   ]
  },
  {
   "cell_type": "code",
   "execution_count": 69,
   "metadata": {},
   "outputs": [
    {
     "data": {
      "text/html": [
       "<div>\n",
       "<style scoped>\n",
       "    .dataframe tbody tr th:only-of-type {\n",
       "        vertical-align: middle;\n",
       "    }\n",
       "\n",
       "    .dataframe tbody tr th {\n",
       "        vertical-align: top;\n",
       "    }\n",
       "\n",
       "    .dataframe thead th {\n",
       "        text-align: right;\n",
       "    }\n",
       "</style>\n",
       "<table border=\"1\" class=\"dataframe\">\n",
       "  <thead>\n",
       "    <tr style=\"text-align: right;\">\n",
       "      <th></th>\n",
       "      <th>chrom</th>\n",
       "      <th>start</th>\n",
       "      <th>end</th>\n",
       "      <th>name</th>\n",
       "      <th>score</th>\n",
       "      <th>strand</th>\n",
       "    </tr>\n",
       "  </thead>\n",
       "  <tbody>\n",
       "    <tr>\n",
       "      <th>0</th>\n",
       "      <td>2</td>\n",
       "      <td>191829084</td>\n",
       "      <td>191885686</td>\n",
       "      <td>STAT1</td>\n",
       "      <td>0</td>\n",
       "      <td>-</td>\n",
       "    </tr>\n",
       "    <tr>\n",
       "      <th>1</th>\n",
       "      <td>17</td>\n",
       "      <td>40465342</td>\n",
       "      <td>40540586</td>\n",
       "      <td>STAT3</td>\n",
       "      <td>0</td>\n",
       "      <td>-</td>\n",
       "    </tr>\n",
       "    <tr>\n",
       "      <th>2</th>\n",
       "      <td>14</td>\n",
       "      <td>106320349</td>\n",
       "      <td>106322323</td>\n",
       "      <td>IGHM</td>\n",
       "      <td>0</td>\n",
       "      <td>-</td>\n",
       "    </tr>\n",
       "  </tbody>\n",
       "</table>\n",
       "</div>"
      ],
      "text/plain": [
       "  chrom      start        end   name  score strand\n",
       "0     2  191829084  191885686  STAT1      0      -\n",
       "1    17   40465342   40540586  STAT3      0      -\n",
       "2    14  106320349  106322323   IGHM      0      -"
      ]
     },
     "execution_count": 69,
     "metadata": {},
     "output_type": "execute_result"
    }
   ],
   "source": [
    "a"
   ]
  },
  {
   "cell_type": "code",
   "execution_count": 40,
   "metadata": {},
   "outputs": [],
   "source": [
    "#%matplotlib inline\n",
    "#from matplotlib import pyplot as plt\n",
    "#histogr = pd.read_csv('./byposition.txt',sep = '\\t',header = None)\n",
    "#plt.scatter(histogr[6],histogr[7])\n",
    "#plt.scatter()"
   ]
  },
  {
   "cell_type": "code",
   "execution_count": 80,
   "metadata": {},
   "outputs": [],
   "source": [
    "data = ensbl(75)\n",
    "try:\n",
    "    data.loci_of_gene_names('STAT1')\n",
    "except ValueError:\n",
    "    print 'gen no encontrado'"
   ]
  },
  {
   "cell_type": "code",
   "execution_count": null,
   "metadata": {},
   "outputs": [],
   "source": []
  }
 ],
 "metadata": {
  "kernelspec": {
   "display_name": "Python 2",
   "language": "python",
   "name": "python2"
  },
  "language_info": {
   "codemirror_mode": {
    "name": "ipython",
    "version": 2
   },
   "file_extension": ".py",
   "mimetype": "text/x-python",
   "name": "python",
   "nbconvert_exporter": "python",
   "pygments_lexer": "ipython2",
   "version": "2.7.12"
  }
 },
 "nbformat": 4,
 "nbformat_minor": 2
}

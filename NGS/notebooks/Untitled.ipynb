{
 "cells": [
  {
   "cell_type": "code",
   "execution_count": 1,
   "metadata": {},
   "outputs": [
    {
     "name": "stderr",
     "output_type": "stream",
     "text": [
      "/usr/local/lib/python2.7/dist-packages/IPython/core/interactiveshell.py:2718: DtypeWarning: Columns (0) have mixed types. Specify dtype option on import or set low_memory=False.\n",
      "  interactivity=interactivity, compiler=compiler, result=result)\n"
     ]
    }
   ],
   "source": [
    "import pandas as pd\n",
    "\n",
    "# grep -v \"^#\" CEDIE1A.vcf | awk '{if ($2 > 10) print $1, $2, $2+1;  else print $1, 0, $2+1; }' |tr ' ' '\\t' > CEDIE1A.vcf.bed\n",
    "#run = 'coverageBed -a CEDIE1A.vcf.bed -b ~/Dropbox/UBIT/casos/caso1BZ/agilent_region.bed >testcov.tsv'\n",
    "#os.system(run)\n",
    "coverage = pd.read_table('/home/ariel/Projects/Gutierrez/CEDIE/201803/vcfs/testcov.tsv',header = None)"
   ]
  },
  {
   "cell_type": "code",
   "execution_count": 16,
   "metadata": {},
   "outputs": [
    {
     "data": {
      "text/plain": [
       "0.0    563226\n",
       "1.0     55319\n",
       "Name: 6, dtype: int64"
      ]
     },
     "execution_count": 16,
     "metadata": {},
     "output_type": "execute_result"
    }
   ],
   "source": [
    "coverage.ix[:,6].value_counts()"
   ]
  },
  {
   "cell_type": "code",
   "execution_count": 17,
   "metadata": {},
   "outputs": [],
   "source": [
    "from pyensembl import EnsemblRelease as ensbl\n",
    "import pandas as pd\n",
    "ensemble_version = 75\n",
    "data = ensbl(ensemble_version)\n"
   ]
  },
  {
   "cell_type": "code",
   "execution_count": 52,
   "metadata": {},
   "outputs": [
    {
     "name": "stdout",
     "output_type": "stream",
     "text": [
      "[56602]\n"
     ]
    }
   ],
   "source": [
    "def get_bed_locus_info_from_gene_name(gene):\n",
    "    exon = data.exon_ids_of_gene_name('STAT1')\n",
    "    exonLocus = [data.locus_of_exon_id(e) for e in exon]\n",
    "\n",
    "    elen =  [(e.to_dict()['start'],e.to_dict()['end']) for e in exonLocus]\n",
    "\n",
    "    whole_gen = data.loci_of_gene_names('STAT1')\n",
    "    whole_gen_len = [whole_gen[0].to_dict()['end']-whole_gen[0].to_dict()['start']]\n"
   ]
  },
  {
   "cell_type": "code",
   "execution_count": 86,
   "metadata": {},
   "outputs": [
    {
     "name": "stderr",
     "output_type": "stream",
     "text": [
      "ERROR:root:Line magic function `%del` not found.\n"
     ]
    }
   ],
   "source": [
    "#get_locis(['STAT1','STAT4'],ref = 37,outpath='./',write_bedfile=True)\n",
    "%del gen"
   ]
  },
  {
   "cell_type": "code",
   "execution_count": null,
   "metadata": {},
   "outputs": [],
   "source": [
    "def get_locis(genelist,ref,outpath,write_bedfile = True):\n",
    "    analyzed_genes = []\n",
    "    try:\n",
    "        if (ref == 37)|(ref == 19):\n",
    "            ensemble_version = 75\n",
    "    except:\n",
    "        'You must to install the ensemble version 75, please run \\n'        \n",
    "        'pyensembl install --release 75 --species homo_sapiens \\n'\n",
    "    try:\n",
    "        if ref == 38:\n",
    "            ensemble_version = 87\n",
    "    except:\n",
    "        'You must to install latest ensemble version (87), please run \\n'        \n",
    "        'pyensembl install --release 87 --species homo_sapiens \\n'\n",
    "        \n",
    "    data = ensbl(ensemble_version)\n",
    "\n",
    "    ############ By the whole Gene #############\n",
    "    locis = []\n",
    "    for gen in genelist:\n",
    "        try:\n",
    "            loc =  data.loci_of_gene_names(gen)\n",
    "            locis.append(loc[0].to_dict())\n",
    "            analyzed_genes.append(gen)\n",
    "        except:\n",
    "            print 'warning, gen %s was not found and ignored'%gen\n",
    "#    return pd.concat(locis)\n",
    "    print '\\n'\n",
    "    ggenes = analyzed_genes\n",
    "    \n",
    "    locis = pd.DataFrame(locis)\n",
    "    locis['name'] = ggenes\n",
    "    locis.rename(columns = {'contig':'chrom'},inplace = True)\n",
    "    locis['score'] = 0 ## this is only for completness, in order to recognize strand as the right next field\n",
    "    locis = locis[['chrom','start','end','name','score','strand']]\n",
    "    \n",
    "    # write file\n",
    "    bedfile = outpath+'gene_loci.bed'\n",
    "    if write_bedfile:\n",
    "        locis.to_csv(bedfile,sep = '\\t',index = False,header = None)    \n",
    "\n",
    "        \n",
    "    return locis, bedfile, locis.columns\n",
    "\n"
   ]
  },
  {
   "cell_type": "code",
   "execution_count": 10,
   "metadata": {},
   "outputs": [],
   "source": [
    "import sys"
   ]
  },
  {
   "cell_type": "code",
   "execution_count": 19,
   "metadata": {},
   "outputs": [],
   "source": [
    "from pyensembl import EnsemblRelease as ensbl\n",
    "def get_exons(genelist,ref,outpath,write_bedfile = True):\n",
    "    analyzed_genes = []\n",
    "    try:\n",
    "        if (ref == 37)|(ref == 19):\n",
    "            ensemble_version = 75\n",
    "    except:\n",
    "        'You must to install the ensemble version 75, please run \\n'        \n",
    "        'pyensembl install --release 75 --species homo_sapiens \\n'\n",
    "    try:\n",
    "        if ref == 38:\n",
    "            ensemble_version = 87\n",
    "    except:\n",
    "        'You must to install latest ensemble version (87), please run \\n'        \n",
    "        'pyensembl install --release 87 --species homo_sapiens \\n'\n",
    "        \n",
    "    data = ensbl(ensemble_version)\n",
    "    ############ By Exons #############\n",
    "    exonbed = []\n",
    "    for gene in genelist:\n",
    "        try:\n",
    "            exons = data.exon_ids_of_gene_name(gene)\n",
    "            exonLocus = [data.locus_of_exon_id(e) for e in exons]\n",
    "            exonLoci = [ex.to_dict() for ex in exonLocus]\n",
    "            exonLoci = pd.DataFrame(exonLoci)\n",
    "            exonLoci['name'] = exons\n",
    "            exonLoci['gene'] = [gene]*len(exons)\n",
    "            exonLoci.rename(columns = {'contig':'chrom'},inplace = True)\n",
    "            exonLoci['score'] = 0 ## this is only for completness, in order to recognize strand as the right next field\n",
    "            exonLoci = exonLoci[['chrom','start','end','name','score','strand','gene']]\n",
    "            exonbed.append(exonLoci)\n",
    "            analyzed_genes.append(gene)\n",
    "        except:\n",
    "            print 'warning, gene %s was not found and ignored'%gene\n",
    "            sys.exc_info()[0]\n",
    "#    return pd.concat(locis)\n",
    "    print '\\n'\n",
    "    exonbed = pd.concat(exonbed)\n",
    "    \n",
    "    # write file\n",
    "    exonbedfile = outpath+'exons_loci.bed'\n",
    "\n",
    "    if write_bedfile:\n",
    "        exonbed.to_csv(exonbedfile,sep = '\\t',index = False,header = None)\n",
    "    \n",
    "        \n",
    "    return exonbed, exonbedfile, exonbed.columns\n",
    "\n",
    "    \n"
   ]
  },
  {
   "cell_type": "code",
   "execution_count": 20,
   "metadata": {},
   "outputs": [
    {
     "name": "stdout",
     "output_type": "stream",
     "text": [
      "\n",
      "\n"
     ]
    }
   ],
   "source": [
    "bed, bedfile, columns = get_exons(['STAT1','STAT4'],ref = 37,outpath='./',write_bedfile=True)"
   ]
  },
  {
   "cell_type": "code",
   "execution_count": 21,
   "metadata": {},
   "outputs": [],
   "source": [
    " exome_coverage = pd.read_table('./test_output/exons_loci.bed.tsv')"
   ]
  },
  {
   "cell_type": "code",
   "execution_count": 52,
   "metadata": {},
   "outputs": [],
   "source": [
    "exome_report = exome_coverage.groupby(['score'])[['coverage_dp1','len_gen_bp','bp_at_10dp','bp_at_20dp','bp_at_30dp']].sum()\n",
    "rel = exome_report.apply(lambda x:x/float(x['len_gen_bp']),axis = 1).drop([u'len_gen_bp'],axis = 1)\n",
    "exome_report = exome_report[['len_gen_bp']].join(rel)\n",
    "\n"
   ]
  },
  {
   "cell_type": "code",
   "execution_count": 87,
   "metadata": {},
   "outputs": [],
   "source": [
    "def get_locis(genelist,ref,outpath,write_bedfile = True):\n",
    "    analyzed_genes = []\n",
    "    try:\n",
    "        if (ref == 37)|(ref == 19):\n",
    "            ensemble_version = 75\n",
    "    except:\n",
    "        'You must to install the ensemble version 75, please run \\n'        \n",
    "        'pyensembl install --release 75 --species homo_sapiens \\n'\n",
    "    try:\n",
    "        if ref == 38:\n",
    "            ensemble_version = 87\n",
    "    except:\n",
    "        'You must to install latest ensemble version (87), please run \\n'        \n",
    "        'pyensembl install --release 87 --species homo_sapiens \\n'\n",
    "        \n",
    "    data = ensbl(ensemble_version)\n",
    "    locis = []\n",
    "\n",
    "    for gen in genelist:\n",
    "        try:\n",
    "            loc =  data.loci_of_gene_names(gen)\n",
    "            locis.append(loc[0].to_dict())\n",
    "            analyzed_genes.append(gen)\n",
    "        except ValueError:\n",
    "            print 'warning, gen %s was not found and ignored'%gen\n",
    "#    return pd.concat(locis)\n",
    "    print '\\n'\n",
    "    ggenes = analyzed_genes\n",
    "    locis = pd.DataFrame(locis)\n",
    "    locis['name'] = ggenes\n",
    "    locis.rename(columns = {'contig':'chrom'},inplace = True)\n",
    "    locis['score'] = 0 ## this is only for completness, in order to recognize strand as the right next field\n",
    "    locis = locis[['chrom','start','end','name','score','strand']]\n",
    "    \n",
    "    # write file\n",
    "    bedfile = outpath+'gene_loci.bed'\n",
    "    if write_bedfile:\n",
    "        locis.to_csv(bedfile,sep = '\\t',index = False,header = None)\n",
    "        \n",
    "    return locis, bedfile, locis.columns\n"
   ]
  },
  {
   "cell_type": "code",
   "execution_count": 98,
   "metadata": {},
   "outputs": [
    {
     "name": "stdout",
     "output_type": "stream",
     "text": [
      "\n",
      "\n"
     ]
    }
   ],
   "source": [
    "a,b,c =get_locis(['STAT1','STAT3','IGHM'],ref = 37, outpath = './',write_bedfile=False)"
   ]
  },
  {
   "cell_type": "code",
   "execution_count": 1,
   "metadata": {},
   "outputs": [],
   "source": [
    "import mygene\n",
    "from pyensembl import EnsemblRelease as ensbl\n",
    "import pandas as pd\n",
    "\n",
    "\n"
   ]
  },
  {
   "cell_type": "code",
   "execution_count": 54,
   "metadata": {},
   "outputs": [
    {
     "name": "stdout",
     "output_type": "stream",
     "text": [
      "IL-10Ra\n",
      "[{u'name': u'interleukin 10 receptor subunit alpha', u'_score': 9.773872, u'symbol': u'IL10RA', u'taxid': 9606, u'entrezgene': 3587, u'_id': u'3587'}]\n"
     ]
    }
   ],
   "source": [
    "gene = 'IL-10Ra'.strip('')\n",
    "print gene\n",
    "mg = mygene.MyGeneInfo()\n",
    "gene_query = mg.query(gene, size=5,species = 'human')\n",
    "gids = gene_query['hits']\n",
    "print  gids\n",
    "if(len(gids)==0):\n",
    "    print 'warning, gene %s was not found and ignored'%gene \n",
    "#    continue\n",
    "else:\n",
    "    gid = int(gids[0][u'_id'])\n",
    "    if len(gids)>1:\n",
    "        print 'warning: more than one mathch with %s'%gene\n",
    "        print 'gen id: %s was assumed'%gid\n",
    "loc =  data.locus_of_gene_id(gid)\n",
    "locis.append(loc[0].to_dict())\n",
    "analyzed_genes.append(gene)\n"
   ]
  },
  {
   "cell_type": "code",
   "execution_count": 72,
   "metadata": {},
   "outputs": [
    {
     "data": {
      "text/plain": [
       "'IL10Ra'"
      ]
     },
     "execution_count": 72,
     "metadata": {},
     "output_type": "execute_result"
    }
   ],
   "source": [
    "#gene[2] =='-'\n",
    "gene2 = gene.replace('-', '')\n",
    "gene2#.replace('-', '')"
   ]
  },
  {
   "cell_type": "code",
   "execution_count": 40,
   "metadata": {},
   "outputs": [],
   "source": [
    "#%matplotlib inline\n",
    "#from matplotlib import pyplot as plt\n",
    "#histogr = pd.read_csv('./byposition.txt',sep = '\\t',header = None)\n",
    "#plt.scatter(histogr[6],histogr[7])\n",
    "#plt.scatter()"
   ]
  },
  {
   "cell_type": "code",
   "execution_count": 73,
   "metadata": {},
   "outputs": [],
   "source": [
    "data = ensbl(75)\n",
    "try:\n",
    "    data.loci_of_gene_names('STAT1')\n",
    "except ValueError:\n",
    "    print 'gen no encontrado'"
   ]
  },
  {
   "cell_type": "code",
   "execution_count": null,
   "metadata": {},
   "outputs": [],
   "source": [
    "exons = data.exon_ids_of_gene_id"
   ]
  },
  {
   "cell_type": "code",
   "execution_count": 77,
   "metadata": {},
   "outputs": [
    {
     "ename": "ValueError",
     "evalue": "No results found for query:\n\n            SELECT distinct seqname, start, end, strand\n            FROM gene\n            WHERE gene_id = ?\n        \nwith parameters: [3669]",
     "output_type": "error",
     "traceback": [
      "\u001b[0;31m---------------------------------------------------------------------------\u001b[0m",
      "\u001b[0;31mValueError\u001b[0m                                Traceback (most recent call last)",
      "\u001b[0;32m<ipython-input-77-ca765f8c9185>\u001b[0m in \u001b[0;36m<module>\u001b[0;34m()\u001b[0m\n\u001b[0;32m----> 1\u001b[0;31m \u001b[0mdata\u001b[0m\u001b[0;34m.\u001b[0m\u001b[0mlocus_of_gene_id\u001b[0m\u001b[0;34m(\u001b[0m\u001b[0mgene_id\u001b[0m\u001b[0;34m=\u001b[0m\u001b[0;36m3669\u001b[0m\u001b[0;34m)\u001b[0m\u001b[0;34m\u001b[0m\u001b[0m\n\u001b[0m",
      "\u001b[0;32m/usr/local/lib/python2.7/dist-packages/pyensembl/genome.pyc\u001b[0m in \u001b[0;36mlocus_of_gene_id\u001b[0;34m(self, gene_id)\u001b[0m\n\u001b[1;32m    551\u001b[0m             \u001b[0mfilter_column\u001b[0m\u001b[0;34m=\u001b[0m\u001b[0;34m\"gene_id\"\u001b[0m\u001b[0;34m,\u001b[0m\u001b[0;34m\u001b[0m\u001b[0m\n\u001b[1;32m    552\u001b[0m             \u001b[0mfilter_value\u001b[0m\u001b[0;34m=\u001b[0m\u001b[0mgene_id\u001b[0m\u001b[0;34m,\u001b[0m\u001b[0;34m\u001b[0m\u001b[0m\n\u001b[0;32m--> 553\u001b[0;31m             feature=\"gene\")\n\u001b[0m\u001b[1;32m    554\u001b[0m \u001b[0;34m\u001b[0m\u001b[0m\n\u001b[1;32m    555\u001b[0m     \u001b[0;32mdef\u001b[0m \u001b[0mloci_of_gene_names\u001b[0m\u001b[0;34m(\u001b[0m\u001b[0mself\u001b[0m\u001b[0;34m,\u001b[0m \u001b[0mgene_name\u001b[0m\u001b[0;34m)\u001b[0m\u001b[0;34m:\u001b[0m\u001b[0;34m\u001b[0m\u001b[0m\n",
      "\u001b[0;32m/usr/local/lib/python2.7/dist-packages/pyensembl/database.pyc\u001b[0m in \u001b[0;36mquery_locus\u001b[0;34m(self, filter_column, filter_value, feature)\u001b[0m\n\u001b[1;32m    589\u001b[0m             \u001b[0mfilter_column\u001b[0m\u001b[0;34m=\u001b[0m\u001b[0mfilter_column\u001b[0m\u001b[0;34m,\u001b[0m\u001b[0;34m\u001b[0m\u001b[0m\n\u001b[1;32m    590\u001b[0m             \u001b[0mfilter_value\u001b[0m\u001b[0;34m=\u001b[0m\u001b[0mfilter_value\u001b[0m\u001b[0;34m,\u001b[0m\u001b[0;34m\u001b[0m\u001b[0m\n\u001b[0;32m--> 591\u001b[0;31m             feature=feature)\n\u001b[0m\u001b[1;32m    592\u001b[0m \u001b[0;34m\u001b[0m\u001b[0m\n\u001b[1;32m    593\u001b[0m         \u001b[0;32mif\u001b[0m \u001b[0mlen\u001b[0m\u001b[0;34m(\u001b[0m\u001b[0mloci\u001b[0m\u001b[0;34m)\u001b[0m \u001b[0;34m==\u001b[0m \u001b[0;36m0\u001b[0m\u001b[0;34m:\u001b[0m\u001b[0;34m\u001b[0m\u001b[0m\n",
      "\u001b[0;32m/usr/local/lib/python2.7/dist-packages/pyensembl/database.pyc\u001b[0m in \u001b[0;36mquery_loci\u001b[0;34m(self, filter_column, filter_value, feature)\u001b[0m\n\u001b[1;32m    561\u001b[0m             \u001b[0mfeature\u001b[0m\u001b[0;34m=\u001b[0m\u001b[0mfeature\u001b[0m\u001b[0;34m,\u001b[0m\u001b[0;34m\u001b[0m\u001b[0m\n\u001b[1;32m    562\u001b[0m             \u001b[0mdistinct\u001b[0m\u001b[0;34m=\u001b[0m\u001b[0mTrue\u001b[0m\u001b[0;34m,\u001b[0m\u001b[0;34m\u001b[0m\u001b[0m\n\u001b[0;32m--> 563\u001b[0;31m             required=True)\n\u001b[0m\u001b[1;32m    564\u001b[0m         return [\n\u001b[1;32m    565\u001b[0m             \u001b[0mLocus\u001b[0m\u001b[0;34m(\u001b[0m\u001b[0mcontig\u001b[0m\u001b[0;34m,\u001b[0m \u001b[0mstart\u001b[0m\u001b[0;34m,\u001b[0m \u001b[0mend\u001b[0m\u001b[0;34m,\u001b[0m \u001b[0mstrand\u001b[0m\u001b[0;34m)\u001b[0m\u001b[0;34m\u001b[0m\u001b[0m\n",
      "\u001b[0;32m/usr/local/lib/python2.7/dist-packages/pyensembl/common.pyc\u001b[0m in \u001b[0;36mwrapped_fn\u001b[0;34m(*args, **kwargs)\u001b[0m\n\u001b[1;32m     65\u001b[0m             \u001b[0;32mreturn\u001b[0m \u001b[0mcache\u001b[0m\u001b[0;34m[\u001b[0m\u001b[0mcache_key\u001b[0m\u001b[0;34m]\u001b[0m\u001b[0;34m\u001b[0m\u001b[0m\n\u001b[1;32m     66\u001b[0m         \u001b[0;32mexcept\u001b[0m \u001b[0mKeyError\u001b[0m\u001b[0;34m:\u001b[0m\u001b[0;34m\u001b[0m\u001b[0m\n\u001b[0;32m---> 67\u001b[0;31m             \u001b[0mvalue\u001b[0m \u001b[0;34m=\u001b[0m \u001b[0mfn\u001b[0m\u001b[0;34m(\u001b[0m\u001b[0;34m*\u001b[0m\u001b[0margs\u001b[0m\u001b[0;34m,\u001b[0m \u001b[0;34m**\u001b[0m\u001b[0mkwargs\u001b[0m\u001b[0;34m)\u001b[0m\u001b[0;34m\u001b[0m\u001b[0m\n\u001b[0m\u001b[1;32m     68\u001b[0m             \u001b[0mcache\u001b[0m\u001b[0;34m[\u001b[0m\u001b[0mcache_key\u001b[0m\u001b[0;34m]\u001b[0m \u001b[0;34m=\u001b[0m \u001b[0mvalue\u001b[0m\u001b[0;34m\u001b[0m\u001b[0m\n\u001b[1;32m     69\u001b[0m             \u001b[0;32mreturn\u001b[0m \u001b[0mvalue\u001b[0m\u001b[0;34m\u001b[0m\u001b[0m\n",
      "\u001b[0;32m/usr/local/lib/python2.7/dist-packages/pyensembl/database.pyc\u001b[0m in \u001b[0;36mquery\u001b[0;34m(self, select_column_names, filter_column, filter_value, feature, distinct, required)\u001b[0m\n\u001b[1;32m    467\u001b[0m         \u001b[0mquery_params\u001b[0m \u001b[0;34m=\u001b[0m \u001b[0;34m[\u001b[0m\u001b[0mfilter_value\u001b[0m\u001b[0;34m]\u001b[0m\u001b[0;34m\u001b[0m\u001b[0m\n\u001b[1;32m    468\u001b[0m         return self.run_sql_query(\n\u001b[0;32m--> 469\u001b[0;31m             sql, required=required, query_params=query_params)\n\u001b[0m\u001b[1;32m    470\u001b[0m \u001b[0;34m\u001b[0m\u001b[0m\n\u001b[1;32m    471\u001b[0m     def query_one(\n",
      "\u001b[0;32m/usr/local/lib/python2.7/dist-packages/pyensembl/database.pyc\u001b[0m in \u001b[0;36mrun_sql_query\u001b[0;34m(self, sql, required, query_params)\u001b[0m\n\u001b[1;32m    440\u001b[0m             raise ValueError(\n\u001b[1;32m    441\u001b[0m                 \"No results found for query:\\n%s\\nwith parameters: %s\" % (\n\u001b[0;32m--> 442\u001b[0;31m                     sql, query_params))\n\u001b[0m\u001b[1;32m    443\u001b[0m \u001b[0;34m\u001b[0m\u001b[0m\n\u001b[1;32m    444\u001b[0m         \u001b[0;32mreturn\u001b[0m \u001b[0mresults\u001b[0m\u001b[0;34m\u001b[0m\u001b[0m\n",
      "\u001b[0;31mValueError\u001b[0m: No results found for query:\n\n            SELECT distinct seqname, start, end, strand\n            FROM gene\n            WHERE gene_id = ?\n        \nwith parameters: [3669]"
     ]
    }
   ],
   "source": [
    "data.locus_of_gene_id()"
   ]
  },
  {
   "cell_type": "code",
   "execution_count": null,
   "metadata": {},
   "outputs": [],
   "source": []
  }
 ],
 "metadata": {
  "kernelspec": {
   "display_name": "Python 2",
   "language": "python",
   "name": "python2"
  },
  "language_info": {
   "codemirror_mode": {
    "name": "ipython",
    "version": 2
   },
   "file_extension": ".py",
   "mimetype": "text/x-python",
   "name": "python",
   "nbconvert_exporter": "python",
   "pygments_lexer": "ipython2",
   "version": "2.7.12"
  }
 },
 "nbformat": 4,
 "nbformat_minor": 2
}

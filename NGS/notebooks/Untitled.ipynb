{
 "cells": [
  {
   "cell_type": "code",
   "execution_count": 1,
   "metadata": {},
   "outputs": [
    {
     "name": "stderr",
     "output_type": "stream",
     "text": [
      "/usr/local/lib/python2.7/dist-packages/IPython/core/interactiveshell.py:2718: DtypeWarning: Columns (0) have mixed types. Specify dtype option on import or set low_memory=False.\n",
      "  interactivity=interactivity, compiler=compiler, result=result)\n"
     ]
    }
   ],
   "source": [
    "import pandas as pd\n",
    "\n",
    "# grep -v \"^#\" CEDIE1A.vcf | awk '{if ($2 > 10) print $1, $2, $2+1;  else print $1, 0, $2+1; }' |tr ' ' '\\t' > CEDIE1A.vcf.bed\n",
    "#run = 'coverageBed -a CEDIE1A.vcf.bed -b ~/Dropbox/UBIT/casos/caso1BZ/agilent_region.bed >testcov.tsv'\n",
    "#os.system(run)\n",
    "coverage = pd.read_table('/home/ariel/Projects/Gutierrez/CEDIE/201803/vcfs/testcov.tsv',header = None)"
   ]
  },
  {
   "cell_type": "code",
   "execution_count": 16,
   "metadata": {},
   "outputs": [
    {
     "data": {
      "text/plain": [
       "0.0    563226\n",
       "1.0     55319\n",
       "Name: 6, dtype: int64"
      ]
     },
     "execution_count": 16,
     "metadata": {},
     "output_type": "execute_result"
    }
   ],
   "source": [
    "coverage.ix[:,6].value_counts()"
   ]
  },
  {
   "cell_type": "code",
   "execution_count": 17,
   "metadata": {},
   "outputs": [],
   "source": [
    "from pyensembl import EnsemblRelease as ensbl\n",
    "import pandas as pd\n",
    "ensemble_version = 75\n",
    "data = ensbl(ensemble_version)\n"
   ]
  },
  {
   "cell_type": "code",
   "execution_count": 52,
   "metadata": {},
   "outputs": [
    {
     "name": "stdout",
     "output_type": "stream",
     "text": [
      "[56602]\n"
     ]
    }
   ],
   "source": [
    "def get_bed_locus_info_from_gene_name(gene):\n",
    "    exon = data.exon_ids_of_gene_name('STAT1')\n",
    "    exonLocus = [data.locus_of_exon_id(e) for e in exon]\n",
    "\n",
    "    elen =  [(e.to_dict()['start'],e.to_dict()['end']) for e in exonLocus]\n",
    "\n",
    "    whole_gen = data.loci_of_gene_names('STAT1')\n",
    "    whole_gen_len = [whole_gen[0].to_dict()['end']-whole_gen[0].to_dict()['start']]\n"
   ]
  },
  {
   "cell_type": "code",
   "execution_count": 86,
   "metadata": {},
   "outputs": [
    {
     "name": "stderr",
     "output_type": "stream",
     "text": [
      "ERROR:root:Line magic function `%del` not found.\n"
     ]
    }
   ],
   "source": [
    "#get_locis(['STAT1','STAT4'],ref = 37,outpath='./',write_bedfile=True)\n",
    "%del gen"
   ]
  },
  {
   "cell_type": "code",
   "execution_count": null,
   "metadata": {},
   "outputs": [],
   "source": [
    "def get_locis(genelist,ref,outpath,write_bedfile = True):\n",
    "    analyzed_genes = []\n",
    "    try:\n",
    "        if (ref == 37)|(ref == 19):\n",
    "            ensemble_version = 75\n",
    "    except:\n",
    "        'You must to install the ensemble version 75, please run \\n'        \n",
    "        'pyensembl install --release 75 --species homo_sapiens \\n'\n",
    "    try:\n",
    "        if ref == 38:\n",
    "            ensemble_version = 87\n",
    "    except:\n",
    "        'You must to install latest ensemble version (87), please run \\n'        \n",
    "        'pyensembl install --release 87 --species homo_sapiens \\n'\n",
    "        \n",
    "    data = ensbl(ensemble_version)\n",
    "\n",
    "    ############ By the whole Gene #############\n",
    "    locis = []\n",
    "    for gen in genelist:\n",
    "        try:\n",
    "            loc =  data.loci_of_gene_names(gen)\n",
    "            locis.append(loc[0].to_dict())\n",
    "            analyzed_genes.append(gen)\n",
    "        except:\n",
    "            print 'warning, gen %s was not found and ignored'%gen\n",
    "#    return pd.concat(locis)\n",
    "    print '\\n'\n",
    "    ggenes = analyzed_genes\n",
    "    \n",
    "    locis = pd.DataFrame(locis)\n",
    "    locis['name'] = ggenes\n",
    "    locis.rename(columns = {'contig':'chrom'},inplace = True)\n",
    "    locis['score'] = 0 ## this is only for completness, in order to recognize strand as the right next field\n",
    "    locis = locis[['chrom','start','end','name','score','strand']]\n",
    "    \n",
    "    # write file\n",
    "    bedfile = outpath+'gene_loci.bed'\n",
    "    if write_bedfile:\n",
    "        locis.to_csv(bedfile,sep = '\\t',index = False,header = None)    \n",
    "\n",
    "        \n",
    "    return locis, bedfile, locis.columns\n",
    "\n"
   ]
  },
  {
   "cell_type": "code",
   "execution_count": 10,
   "metadata": {},
   "outputs": [],
   "source": [
    "import sys"
   ]
  },
  {
   "cell_type": "code",
   "execution_count": 19,
   "metadata": {},
   "outputs": [],
   "source": [
    "from pyensembl import EnsemblRelease as ensbl\n",
    "def get_exons(genelist,ref,outpath,write_bedfile = True):\n",
    "    analyzed_genes = []\n",
    "    try:\n",
    "        if (ref == 37)|(ref == 19):\n",
    "            ensemble_version = 75\n",
    "    except:\n",
    "        'You must to install the ensemble version 75, please run \\n'        \n",
    "        'pyensembl install --release 75 --species homo_sapiens \\n'\n",
    "    try:\n",
    "        if ref == 38:\n",
    "            ensemble_version = 87\n",
    "    except:\n",
    "        'You must to install latest ensemble version (87), please run \\n'        \n",
    "        'pyensembl install --release 87 --species homo_sapiens \\n'\n",
    "        \n",
    "    data = ensbl(ensemble_version)\n",
    "    ############ By Exons #############\n",
    "    exonbed = []\n",
    "    for gene in genelist:\n",
    "        try:\n",
    "            exons = data.exon_ids_of_gene_name(gene)\n",
    "            exonLocus = [data.locus_of_exon_id(e) for e in exons]\n",
    "            exonLoci = [ex.to_dict() for ex in exonLocus]\n",
    "            exonLoci = pd.DataFrame(exonLoci)\n",
    "            exonLoci['name'] = exons\n",
    "            exonLoci['gene'] = [gene]*len(exons)\n",
    "            exonLoci.rename(columns = {'contig':'chrom'},inplace = True)\n",
    "            exonLoci['score'] = 0 ## this is only for completness, in order to recognize strand as the right next field\n",
    "            exonLoci = exonLoci[['chrom','start','end','name','score','strand','gene']]\n",
    "            exonbed.append(exonLoci)\n",
    "            analyzed_genes.append(gene)\n",
    "        except:\n",
    "            print 'warning, gene %s was not found and ignored'%gene\n",
    "            sys.exc_info()[0]\n",
    "#    return pd.concat(locis)\n",
    "    print '\\n'\n",
    "    exonbed = pd.concat(exonbed)\n",
    "    \n",
    "    # write file\n",
    "    exonbedfile = outpath+'exons_loci.bed'\n",
    "\n",
    "    if write_bedfile:\n",
    "        exonbed.to_csv(exonbedfile,sep = '\\t',index = False,header = None)\n",
    "    \n",
    "        \n",
    "    return exonbed, exonbedfile, exonbed.columns\n",
    "\n",
    "    \n"
   ]
  },
  {
   "cell_type": "code",
   "execution_count": 20,
   "metadata": {},
   "outputs": [
    {
     "name": "stdout",
     "output_type": "stream",
     "text": [
      "\n",
      "\n"
     ]
    }
   ],
   "source": [
    "bed, bedfile, columns = get_exons(['STAT1','STAT4'],ref = 37,outpath='./',write_bedfile=True)"
   ]
  },
  {
   "cell_type": "code",
   "execution_count": 21,
   "metadata": {},
   "outputs": [],
   "source": [
    " exome_coverage = pd.read_table('./test_output/exons_loci.bed.tsv')"
   ]
  },
  {
   "cell_type": "code",
   "execution_count": 52,
   "metadata": {},
   "outputs": [],
   "source": [
    "exome_report = exome_coverage.groupby(['score'])[['coverage_dp1','len_gen_bp','bp_at_10dp','bp_at_20dp','bp_at_30dp']].sum()\n",
    "rel = exome_report.apply(lambda x:x/float(x['len_gen_bp']),axis = 1).drop([u'len_gen_bp'],axis = 1)\n",
    "exome_report = exome_report[['len_gen_bp']].join(rel)\n",
    "\n"
   ]
  },
  {
   "cell_type": "code",
   "execution_count": 87,
   "metadata": {},
   "outputs": [],
   "source": [
    "def get_locis(genelist,ref,outpath,write_bedfile = True):\n",
    "    analyzed_genes = []\n",
    "    try:\n",
    "        if (ref == 37)|(ref == 19):\n",
    "            ensemble_version = 75\n",
    "    except:\n",
    "        'You must to install the ensemble version 75, please run \\n'        \n",
    "        'pyensembl install --release 75 --species homo_sapiens \\n'\n",
    "    try:\n",
    "        if ref == 38:\n",
    "            ensemble_version = 87\n",
    "    except:\n",
    "        'You must to install latest ensemble version (87), please run \\n'        \n",
    "        'pyensembl install --release 87 --species homo_sapiens \\n'\n",
    "        \n",
    "    data = ensbl(ensemble_version)\n",
    "    locis = []\n",
    "\n",
    "    for gen in genelist:\n",
    "        try:\n",
    "            loc =  data.loci_of_gene_names(gen)\n",
    "            locis.append(loc[0].to_dict())\n",
    "            analyzed_genes.append(gen)\n",
    "        except ValueError:\n",
    "            print 'warning, gen %s was not found and ignored'%gen\n",
    "#    return pd.concat(locis)\n",
    "    print '\\n'\n",
    "    ggenes = analyzed_genes\n",
    "    locis = pd.DataFrame(locis)\n",
    "    locis['name'] = ggenes\n",
    "    locis.rename(columns = {'contig':'chrom'},inplace = True)\n",
    "    locis['score'] = 0 ## this is only for completness, in order to recognize strand as the right next field\n",
    "    locis = locis[['chrom','start','end','name','score','strand']]\n",
    "    \n",
    "    # write file\n",
    "    bedfile = outpath+'gene_loci.bed'\n",
    "    if write_bedfile:\n",
    "        locis.to_csv(bedfile,sep = '\\t',index = False,header = None)\n",
    "        \n",
    "    return locis, bedfile, locis.columns\n"
   ]
  },
  {
   "cell_type": "code",
   "execution_count": 98,
   "metadata": {},
   "outputs": [
    {
     "name": "stdout",
     "output_type": "stream",
     "text": [
      "\n",
      "\n"
     ]
    }
   ],
   "source": [
    "a,b,c =get_locis(['STAT1','STAT3','IGHM'],ref = 37, outpath = './',write_bedfile=False)"
   ]
  },
  {
   "cell_type": "code",
   "execution_count": 1,
   "metadata": {},
   "outputs": [],
   "source": [
    "import mygene\n",
    "from pyensembl import EnsemblRelease as ensbl\n",
    "import pandas as pd\n",
    "\n",
    "\n"
   ]
  },
  {
   "cell_type": "markdown",
   "metadata": {},
   "source": [
    "M "
   ]
  },
  {
   "cell_type": "code",
   "execution_count": 102,
   "metadata": {},
   "outputs": [
    {
     "data": {
      "text/plain": [
       "u'ENSG00000172183'"
      ]
     },
     "execution_count": 102,
     "metadata": {},
     "output_type": "execute_result"
    }
   ],
   "source": []
  },
  {
   "cell_type": "code",
   "execution_count": 92,
   "metadata": {},
   "outputs": [
    {
     "data": {
      "text/plain": [
       "[Gene(gene_id=ENSG00000168610, gene_name=STAT3, biotype=protein_coding, location=17:40465342-40540586)]"
      ]
     },
     "execution_count": 92,
     "metadata": {},
     "output_type": "execute_result"
    }
   ],
   "source": [
    "data.genes_by_name('STAT3')"
   ]
  },
  {
   "cell_type": "code",
   "execution_count": 107,
   "metadata": {},
   "outputs": [
    {
     "name": "stdout",
     "output_type": "stream",
     "text": [
      "[]\n",
      "warning, gene PI3KCD was not found and ignored\n"
     ]
    }
   ],
   "source": [
    "gg = ['PI3KCD']\n",
    "for gen in gg:\n",
    "    gene = gen.strip(' ').replace('-', '')\n",
    "    try:\n",
    "        exons = data.exon_ids_of_gene_name(gene)\n",
    "        exonLocus = [data.locus_of_exon_id(e) for e in exons]\n",
    "        exonLoci = [ex.to_dict() for ex in exonLocus]\n",
    "        exonLoci = pd.DataFrame(exonLoci)\n",
    "        exonLoci['name'] = exons\n",
    "        exonLoci['score'] = [gene]*len(exons)\n",
    "        exonLoci.rename(columns = {'contig':'chrom'},inplace = True)\n",
    "        #exonLoci['score'] = 0 ## this is only for completness, in order to recognize strand as the right next field\n",
    "        exonLoci = exonLoci[['chrom','start','end','name','score','strand']]\n",
    "        exonbed.append(exonLoci)\n",
    "        analyzed_genes.append(gene)\n",
    "    except ValueError:\n",
    "        gene_query = mg.query(gene, size=5,species = 'human')\n",
    "        gids = gene_query['hits']\n",
    "        print  gids\n",
    "        if(len(gids)==0):\n",
    "            print 'warning, gene %s was not found and ignored'%gene \n",
    "            continue\n",
    "        else:\n",
    "            j=0\n",
    "            for i in range(len(gids)): \n",
    "                gid = int(gids[i][u'_id'])\n",
    "                try:\n",
    "                    ensblID = mg.getgene(gid, fields='ensembl',species = 'human')[u'ensembl'] [u'gene']\n",
    "                    trylocus = data.locus_of_gene_id(ensblID)\n",
    "                    break\n",
    "                except ValueError:\n",
    "                    j=j+1\n",
    "                    continue\n",
    "\n",
    "            # check if there was a match \n",
    "            if i == j:\n",
    "                print 'warning, gene %s was not found and ignored'%gene \n",
    "                continue\n",
    "\n",
    "            if len(gids)>1:\n",
    "                print 'warning: more than one mathch with %s'%gene\n",
    "                print 'gen id: %s (ensmbl id %s ) was assumed'%(gid,ensblID)\n",
    "        exons = data.exon_ids_of_gene_id(ensblID)\n"
   ]
  },
  {
   "cell_type": "code",
   "execution_count": 112,
   "metadata": {},
   "outputs": [],
   "source": [
    "#mg.query('PI3KCD', size=5,species = 'human')\n",
    "mg.getgene('PI3KCD', fields='ensembl',species = 'human')#[u'ensembl'] [u'gene']"
   ]
  },
  {
   "cell_type": "code",
   "execution_count": 4,
   "metadata": {},
   "outputs": [],
   "source": [
    "import mygene\n",
    "from pyensembl import EnsemblRelease as ensbl\n",
    "import pandas as pd\n",
    "mg = mygene.MyGeneInfo()\n"
   ]
  },
  {
   "cell_type": "code",
   "execution_count": 21,
   "metadata": {},
   "outputs": [
    {
     "data": {
      "text/plain": [
       "{u'hits': [], u'max_score': None, u'took': 4, u'total': 0}"
      ]
     },
     "execution_count": 21,
     "metadata": {},
     "output_type": "execute_result"
    }
   ],
   "source": [
    "gene_query"
   ]
  },
  {
   "cell_type": "code",
   "execution_count": 33,
   "metadata": {},
   "outputs": [
    {
     "name": "stdout",
     "output_type": "stream",
     "text": [
      "IGHM\n",
      "CD79A\n",
      "CD79B\n",
      "BLNK\n",
      "IGLL1\n",
      "PI3KR1\n",
      "TCF3\n",
      "NFKB1\n",
      "NFKB2\n",
      "IRF2BP2\n",
      "LRBA\n",
      "CTLA4\n",
      "STAT3 \n",
      "TPP2\n",
      "JAK1 \n",
      "CD25\n",
      "BACH2\n",
      "PNP\n",
      "STAT5B\n",
      "DOCK8\n",
      "IL21\n",
      "IL-10\n",
      "IL-10Ra\n",
      "IL-10Rb\n",
      "NFAT5\n",
      "PI3KCD\n"
     ]
    }
   ],
   "source": [
    "genes = pd.read_csv('/home/ariel/Dropbox/UBIT/casos/caso1BZ/Genes-candidatos-CEDIE1A.csv')['Gen'].values\n",
    "entrez = []\n",
    "for g in genes:\n",
    "    print g\n",
    "    gene_query = mg.query(g, size=5,species = 'human')\n",
    "    hits = gene_query['hits']\n",
    "    if len(hits)==0:\n",
    "        entrez.append(g)\n",
    "    else:    \n",
    "        gids = hits[0]\n",
    "        e = gids[u'_id']\n",
    "        if e[0:3] != 'ENS':\n",
    "            entrez.append(int(e))\n",
    "        else:\n",
    "            entrez.append(e)\n",
    "        "
   ]
  },
  {
   "cell_type": "code",
   "execution_count": 39,
   "metadata": {},
   "outputs": [
    {
     "data": {
      "text/html": [
       "<div>\n",
       "<style scoped>\n",
       "    .dataframe tbody tr th:only-of-type {\n",
       "        vertical-align: middle;\n",
       "    }\n",
       "\n",
       "    .dataframe tbody tr th {\n",
       "        vertical-align: top;\n",
       "    }\n",
       "\n",
       "    .dataframe thead th {\n",
       "        text-align: right;\n",
       "    }\n",
       "</style>\n",
       "<table border=\"1\" class=\"dataframe\">\n",
       "  <thead>\n",
       "    <tr style=\"text-align: right;\">\n",
       "      <th></th>\n",
       "      <th>symbol</th>\n",
       "      <th>id</th>\n",
       "    </tr>\n",
       "  </thead>\n",
       "  <tbody>\n",
       "    <tr>\n",
       "      <th>0</th>\n",
       "      <td>IGHM</td>\n",
       "      <td>ENSG00000282657</td>\n",
       "    </tr>\n",
       "    <tr>\n",
       "      <th>1</th>\n",
       "      <td>CD79A</td>\n",
       "      <td>973</td>\n",
       "    </tr>\n",
       "    <tr>\n",
       "      <th>2</th>\n",
       "      <td>CD79B</td>\n",
       "      <td>974</td>\n",
       "    </tr>\n",
       "    <tr>\n",
       "      <th>3</th>\n",
       "      <td>BLNK</td>\n",
       "      <td>29760</td>\n",
       "    </tr>\n",
       "    <tr>\n",
       "      <th>4</th>\n",
       "      <td>IGLL1</td>\n",
       "      <td>3543</td>\n",
       "    </tr>\n",
       "    <tr>\n",
       "      <th>5</th>\n",
       "      <td>PI3KR1</td>\n",
       "      <td>PI3KR1</td>\n",
       "    </tr>\n",
       "    <tr>\n",
       "      <th>6</th>\n",
       "      <td>TCF3</td>\n",
       "      <td>6929</td>\n",
       "    </tr>\n",
       "    <tr>\n",
       "      <th>7</th>\n",
       "      <td>NFKB1</td>\n",
       "      <td>4790</td>\n",
       "    </tr>\n",
       "    <tr>\n",
       "      <th>8</th>\n",
       "      <td>NFKB2</td>\n",
       "      <td>4791</td>\n",
       "    </tr>\n",
       "    <tr>\n",
       "      <th>9</th>\n",
       "      <td>IRF2BP2</td>\n",
       "      <td>359948</td>\n",
       "    </tr>\n",
       "    <tr>\n",
       "      <th>10</th>\n",
       "      <td>LRBA</td>\n",
       "      <td>987</td>\n",
       "    </tr>\n",
       "    <tr>\n",
       "      <th>11</th>\n",
       "      <td>CTLA4</td>\n",
       "      <td>1493</td>\n",
       "    </tr>\n",
       "    <tr>\n",
       "      <th>12</th>\n",
       "      <td>STAT3</td>\n",
       "      <td>6774</td>\n",
       "    </tr>\n",
       "    <tr>\n",
       "      <th>13</th>\n",
       "      <td>TPP2</td>\n",
       "      <td>7174</td>\n",
       "    </tr>\n",
       "    <tr>\n",
       "      <th>14</th>\n",
       "      <td>JAK1</td>\n",
       "      <td>3716</td>\n",
       "    </tr>\n",
       "    <tr>\n",
       "      <th>15</th>\n",
       "      <td>CD25</td>\n",
       "      <td>3669</td>\n",
       "    </tr>\n",
       "    <tr>\n",
       "      <th>16</th>\n",
       "      <td>BACH2</td>\n",
       "      <td>60468</td>\n",
       "    </tr>\n",
       "    <tr>\n",
       "      <th>17</th>\n",
       "      <td>PNP</td>\n",
       "      <td>4860</td>\n",
       "    </tr>\n",
       "    <tr>\n",
       "      <th>18</th>\n",
       "      <td>STAT5B</td>\n",
       "      <td>6777</td>\n",
       "    </tr>\n",
       "    <tr>\n",
       "      <th>19</th>\n",
       "      <td>DOCK8</td>\n",
       "      <td>81704</td>\n",
       "    </tr>\n",
       "    <tr>\n",
       "      <th>20</th>\n",
       "      <td>IL21</td>\n",
       "      <td>59067</td>\n",
       "    </tr>\n",
       "    <tr>\n",
       "      <th>21</th>\n",
       "      <td>IL-10</td>\n",
       "      <td>3588</td>\n",
       "    </tr>\n",
       "    <tr>\n",
       "      <th>22</th>\n",
       "      <td>IL-10Ra</td>\n",
       "      <td>3587</td>\n",
       "    </tr>\n",
       "    <tr>\n",
       "      <th>23</th>\n",
       "      <td>IL-10Rb</td>\n",
       "      <td>3588</td>\n",
       "    </tr>\n",
       "    <tr>\n",
       "      <th>24</th>\n",
       "      <td>NFAT5</td>\n",
       "      <td>10725</td>\n",
       "    </tr>\n",
       "    <tr>\n",
       "      <th>25</th>\n",
       "      <td>PI3KCD</td>\n",
       "      <td>PI3KCD</td>\n",
       "    </tr>\n",
       "  </tbody>\n",
       "</table>\n",
       "</div>"
      ],
      "text/plain": [
       "     symbol               id\n",
       "0      IGHM  ENSG00000282657\n",
       "1     CD79A              973\n",
       "2     CD79B              974\n",
       "3      BLNK            29760\n",
       "4     IGLL1             3543\n",
       "5    PI3KR1           PI3KR1\n",
       "6      TCF3             6929\n",
       "7     NFKB1             4790\n",
       "8     NFKB2             4791\n",
       "9   IRF2BP2           359948\n",
       "10     LRBA              987\n",
       "11    CTLA4             1493\n",
       "12   STAT3              6774\n",
       "13     TPP2             7174\n",
       "14    JAK1              3716\n",
       "15     CD25             3669\n",
       "16    BACH2            60468\n",
       "17      PNP             4860\n",
       "18   STAT5B             6777\n",
       "19    DOCK8            81704\n",
       "20     IL21            59067\n",
       "21    IL-10             3588\n",
       "22  IL-10Ra             3587\n",
       "23  IL-10Rb             3588\n",
       "24    NFAT5            10725\n",
       "25   PI3KCD           PI3KCD"
      ]
     },
     "execution_count": 39,
     "metadata": {},
     "output_type": "execute_result"
    }
   ],
   "source": [
    "pd.DataFrame({'symbol':genes,'id':entrez})[['symbol','id']]"
   ]
  },
  {
   "cell_type": "code",
   "execution_count": 103,
   "metadata": {},
   "outputs": [
    {
     "name": "stdout",
     "output_type": "stream",
     "text": [
      "IL10Ra\n",
      "[{u'name': u'interleukin 10 receptor subunit alpha', u'_score': 454.7233, u'symbol': u'IL10RA', u'taxid': 9606, u'entrezgene': 3587, u'_id': u'3587'}, {u'name': u'interleukin 10 receptor subunit beta', u'_score': 2.2226274, u'symbol': u'IL10RB', u'taxid': 9606, u'entrezgene': 3588, u'_id': u'3588'}]\n",
      "warning: more than one mathch with IL10Ra\n",
      "gen id: 3587 was assumed\n"
     ]
    },
    {
     "ename": "ValueError",
     "evalue": "No results found for query:\n\n            SELECT distinct seqname, start, end, strand\n            FROM gene\n            WHERE gene_id = ?\n        \nwith parameters: [3587]",
     "output_type": "error",
     "traceback": [
      "\u001b[0;31m---------------------------------------------------------------------------\u001b[0m",
      "\u001b[0;31mValueError\u001b[0m                                Traceback (most recent call last)",
      "\u001b[0;32m<ipython-input-103-ed98ae60a7eb>\u001b[0m in \u001b[0;36m<module>\u001b[0;34m()\u001b[0m\n\u001b[1;32m     13\u001b[0m         \u001b[0;32mprint\u001b[0m \u001b[0;34m'warning: more than one mathch with %s'\u001b[0m\u001b[0;34m%\u001b[0m\u001b[0mgene\u001b[0m\u001b[0;34m\u001b[0m\u001b[0m\n\u001b[1;32m     14\u001b[0m         \u001b[0;32mprint\u001b[0m \u001b[0;34m'gen id: %s was assumed'\u001b[0m\u001b[0;34m%\u001b[0m\u001b[0mgid\u001b[0m\u001b[0;34m\u001b[0m\u001b[0m\n\u001b[0;32m---> 15\u001b[0;31m \u001b[0mloc\u001b[0m \u001b[0;34m=\u001b[0m  \u001b[0mdata\u001b[0m\u001b[0;34m.\u001b[0m\u001b[0mlocus_of_gene_id\u001b[0m\u001b[0;34m(\u001b[0m\u001b[0mgid\u001b[0m\u001b[0;34m)\u001b[0m\u001b[0;34m\u001b[0m\u001b[0m\n\u001b[0m\u001b[1;32m     16\u001b[0m \u001b[0mlocis\u001b[0m\u001b[0;34m.\u001b[0m\u001b[0mappend\u001b[0m\u001b[0;34m(\u001b[0m\u001b[0mloc\u001b[0m\u001b[0;34m[\u001b[0m\u001b[0;36m0\u001b[0m\u001b[0;34m]\u001b[0m\u001b[0;34m.\u001b[0m\u001b[0mto_dict\u001b[0m\u001b[0;34m(\u001b[0m\u001b[0;34m)\u001b[0m\u001b[0;34m)\u001b[0m\u001b[0;34m\u001b[0m\u001b[0m\n\u001b[1;32m     17\u001b[0m \u001b[0manalyzed_genes\u001b[0m\u001b[0;34m.\u001b[0m\u001b[0mappend\u001b[0m\u001b[0;34m(\u001b[0m\u001b[0mgene\u001b[0m\u001b[0;34m)\u001b[0m\u001b[0;34m\u001b[0m\u001b[0m\n",
      "\u001b[0;32m/usr/local/lib/python2.7/dist-packages/pyensembl/genome.pyc\u001b[0m in \u001b[0;36mlocus_of_gene_id\u001b[0;34m(self, gene_id)\u001b[0m\n\u001b[1;32m    551\u001b[0m             \u001b[0mfilter_column\u001b[0m\u001b[0;34m=\u001b[0m\u001b[0;34m\"gene_id\"\u001b[0m\u001b[0;34m,\u001b[0m\u001b[0;34m\u001b[0m\u001b[0m\n\u001b[1;32m    552\u001b[0m             \u001b[0mfilter_value\u001b[0m\u001b[0;34m=\u001b[0m\u001b[0mgene_id\u001b[0m\u001b[0;34m,\u001b[0m\u001b[0;34m\u001b[0m\u001b[0m\n\u001b[0;32m--> 553\u001b[0;31m             feature=\"gene\")\n\u001b[0m\u001b[1;32m    554\u001b[0m \u001b[0;34m\u001b[0m\u001b[0m\n\u001b[1;32m    555\u001b[0m     \u001b[0;32mdef\u001b[0m \u001b[0mloci_of_gene_names\u001b[0m\u001b[0;34m(\u001b[0m\u001b[0mself\u001b[0m\u001b[0;34m,\u001b[0m \u001b[0mgene_name\u001b[0m\u001b[0;34m)\u001b[0m\u001b[0;34m:\u001b[0m\u001b[0;34m\u001b[0m\u001b[0m\n",
      "\u001b[0;32m/usr/local/lib/python2.7/dist-packages/pyensembl/database.pyc\u001b[0m in \u001b[0;36mquery_locus\u001b[0;34m(self, filter_column, filter_value, feature)\u001b[0m\n\u001b[1;32m    589\u001b[0m             \u001b[0mfilter_column\u001b[0m\u001b[0;34m=\u001b[0m\u001b[0mfilter_column\u001b[0m\u001b[0;34m,\u001b[0m\u001b[0;34m\u001b[0m\u001b[0m\n\u001b[1;32m    590\u001b[0m             \u001b[0mfilter_value\u001b[0m\u001b[0;34m=\u001b[0m\u001b[0mfilter_value\u001b[0m\u001b[0;34m,\u001b[0m\u001b[0;34m\u001b[0m\u001b[0m\n\u001b[0;32m--> 591\u001b[0;31m             feature=feature)\n\u001b[0m\u001b[1;32m    592\u001b[0m \u001b[0;34m\u001b[0m\u001b[0m\n\u001b[1;32m    593\u001b[0m         \u001b[0;32mif\u001b[0m \u001b[0mlen\u001b[0m\u001b[0;34m(\u001b[0m\u001b[0mloci\u001b[0m\u001b[0;34m)\u001b[0m \u001b[0;34m==\u001b[0m \u001b[0;36m0\u001b[0m\u001b[0;34m:\u001b[0m\u001b[0;34m\u001b[0m\u001b[0m\n",
      "\u001b[0;32m/usr/local/lib/python2.7/dist-packages/pyensembl/database.pyc\u001b[0m in \u001b[0;36mquery_loci\u001b[0;34m(self, filter_column, filter_value, feature)\u001b[0m\n\u001b[1;32m    561\u001b[0m             \u001b[0mfeature\u001b[0m\u001b[0;34m=\u001b[0m\u001b[0mfeature\u001b[0m\u001b[0;34m,\u001b[0m\u001b[0;34m\u001b[0m\u001b[0m\n\u001b[1;32m    562\u001b[0m             \u001b[0mdistinct\u001b[0m\u001b[0;34m=\u001b[0m\u001b[0mTrue\u001b[0m\u001b[0;34m,\u001b[0m\u001b[0;34m\u001b[0m\u001b[0m\n\u001b[0;32m--> 563\u001b[0;31m             required=True)\n\u001b[0m\u001b[1;32m    564\u001b[0m         return [\n\u001b[1;32m    565\u001b[0m             \u001b[0mLocus\u001b[0m\u001b[0;34m(\u001b[0m\u001b[0mcontig\u001b[0m\u001b[0;34m,\u001b[0m \u001b[0mstart\u001b[0m\u001b[0;34m,\u001b[0m \u001b[0mend\u001b[0m\u001b[0;34m,\u001b[0m \u001b[0mstrand\u001b[0m\u001b[0;34m)\u001b[0m\u001b[0;34m\u001b[0m\u001b[0m\n",
      "\u001b[0;32m/usr/local/lib/python2.7/dist-packages/pyensembl/common.pyc\u001b[0m in \u001b[0;36mwrapped_fn\u001b[0;34m(*args, **kwargs)\u001b[0m\n\u001b[1;32m     65\u001b[0m             \u001b[0;32mreturn\u001b[0m \u001b[0mcache\u001b[0m\u001b[0;34m[\u001b[0m\u001b[0mcache_key\u001b[0m\u001b[0;34m]\u001b[0m\u001b[0;34m\u001b[0m\u001b[0m\n\u001b[1;32m     66\u001b[0m         \u001b[0;32mexcept\u001b[0m \u001b[0mKeyError\u001b[0m\u001b[0;34m:\u001b[0m\u001b[0;34m\u001b[0m\u001b[0m\n\u001b[0;32m---> 67\u001b[0;31m             \u001b[0mvalue\u001b[0m \u001b[0;34m=\u001b[0m \u001b[0mfn\u001b[0m\u001b[0;34m(\u001b[0m\u001b[0;34m*\u001b[0m\u001b[0margs\u001b[0m\u001b[0;34m,\u001b[0m \u001b[0;34m**\u001b[0m\u001b[0mkwargs\u001b[0m\u001b[0;34m)\u001b[0m\u001b[0;34m\u001b[0m\u001b[0m\n\u001b[0m\u001b[1;32m     68\u001b[0m             \u001b[0mcache\u001b[0m\u001b[0;34m[\u001b[0m\u001b[0mcache_key\u001b[0m\u001b[0;34m]\u001b[0m \u001b[0;34m=\u001b[0m \u001b[0mvalue\u001b[0m\u001b[0;34m\u001b[0m\u001b[0m\n\u001b[1;32m     69\u001b[0m             \u001b[0;32mreturn\u001b[0m \u001b[0mvalue\u001b[0m\u001b[0;34m\u001b[0m\u001b[0m\n",
      "\u001b[0;32m/usr/local/lib/python2.7/dist-packages/pyensembl/database.pyc\u001b[0m in \u001b[0;36mquery\u001b[0;34m(self, select_column_names, filter_column, filter_value, feature, distinct, required)\u001b[0m\n\u001b[1;32m    467\u001b[0m         \u001b[0mquery_params\u001b[0m \u001b[0;34m=\u001b[0m \u001b[0;34m[\u001b[0m\u001b[0mfilter_value\u001b[0m\u001b[0;34m]\u001b[0m\u001b[0;34m\u001b[0m\u001b[0m\n\u001b[1;32m    468\u001b[0m         return self.run_sql_query(\n\u001b[0;32m--> 469\u001b[0;31m             sql, required=required, query_params=query_params)\n\u001b[0m\u001b[1;32m    470\u001b[0m \u001b[0;34m\u001b[0m\u001b[0m\n\u001b[1;32m    471\u001b[0m     def query_one(\n",
      "\u001b[0;32m/usr/local/lib/python2.7/dist-packages/pyensembl/database.pyc\u001b[0m in \u001b[0;36mrun_sql_query\u001b[0;34m(self, sql, required, query_params)\u001b[0m\n\u001b[1;32m    440\u001b[0m             raise ValueError(\n\u001b[1;32m    441\u001b[0m                 \"No results found for query:\\n%s\\nwith parameters: %s\" % (\n\u001b[0;32m--> 442\u001b[0;31m                     sql, query_params))\n\u001b[0m\u001b[1;32m    443\u001b[0m \u001b[0;34m\u001b[0m\u001b[0m\n\u001b[1;32m    444\u001b[0m         \u001b[0;32mreturn\u001b[0m \u001b[0mresults\u001b[0m\u001b[0;34m\u001b[0m\u001b[0m\n",
      "\u001b[0;31mValueError\u001b[0m: No results found for query:\n\n            SELECT distinct seqname, start, end, strand\n            FROM gene\n            WHERE gene_id = ?\n        \nwith parameters: [3587]"
     ]
    }
   ],
   "source": [
    "gene = 'IL10Ra'\n",
    "print gene\n",
    "mg = mygene.MyGeneInfo()\n",
    "gene_query = mg.query(gene, size=5,species = 'human')\n",
    "gids = gene_query['hits']\n",
    "print  gids\n",
    "if(len(gids)==0):\n",
    "    print 'warning, gene %s was not found and ignored'%gene \n",
    "#    continue\n",
    "else:\n",
    "    gid = int(gids[0][u'_id'])\n",
    "    if len(gids)>1:\n",
    "        print 'warning: more than one mathch with %s'%gene\n",
    "        print 'gen id: %s was assumed'%gid\n",
    "loc =  data.locus_of_gene_id(gid)\n",
    "locis.append(loc[0].to_dict())\n",
    "analyzed_genes.append(gene)\n"
   ]
  },
  {
   "cell_type": "code",
   "execution_count": 72,
   "metadata": {},
   "outputs": [
    {
     "data": {
      "text/plain": [
       "'IL10Ra'"
      ]
     },
     "execution_count": 72,
     "metadata": {},
     "output_type": "execute_result"
    }
   ],
   "source": [
    "#gene[2] =='-'\n",
    "gene2 = gene.replace('-', '')\n",
    "gene2#.replace('-', '')"
   ]
  },
  {
   "cell_type": "code",
   "execution_count": 40,
   "metadata": {},
   "outputs": [],
   "source": [
    "#%matplotlib inline\n",
    "#from matplotlib import pyplot as plt\n",
    "#histogr = pd.read_csv('./byposition.txt',sep = '\\t',header = None)\n",
    "#plt.scatter(histogr[6],histogr[7])\n",
    "#plt.scatter()"
   ]
  },
  {
   "cell_type": "code",
   "execution_count": 73,
   "metadata": {},
   "outputs": [],
   "source": [
    "data = ensbl(75)\n",
    "try:\n",
    "    data.loci_of_gene_names('STAT1')\n",
    "except ValueError:\n",
    "    print 'gen no encontrado'"
   ]
  },
  {
   "cell_type": "code",
   "execution_count": null,
   "metadata": {},
   "outputs": [],
   "source": [
    "exons = data.exon_ids_of_gene_id"
   ]
  },
  {
   "cell_type": "code",
   "execution_count": 81,
   "metadata": {},
   "outputs": [],
   "source": [
    "?data.locus_of_gene_id#(3559)"
   ]
  },
  {
   "cell_type": "code",
   "execution_count": null,
   "metadata": {},
   "outputs": [],
   "source": []
  }
 ],
 "metadata": {
  "kernelspec": {
   "display_name": "Python 2",
   "language": "python",
   "name": "python2"
  },
  "language_info": {
   "codemirror_mode": {
    "name": "ipython",
    "version": 2
   },
   "file_extension": ".py",
   "mimetype": "text/x-python",
   "name": "python",
   "nbconvert_exporter": "python",
   "pygments_lexer": "ipython2",
   "version": "2.7.12"
  }
 },
 "nbformat": 4,
 "nbformat_minor": 2
}

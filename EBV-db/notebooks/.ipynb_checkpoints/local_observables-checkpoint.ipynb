{
 "cells": [
  {
   "cell_type": "code",
   "execution_count": 1,
   "metadata": {},
   "outputs": [],
   "source": [
    "import argparse   \n",
    "import pandas as pd\n",
    "import os\n",
    "from Bio import AlignIO \n",
    "from Bio import SeqIO\n",
    "import numpy as np\n",
    "\n",
    "\n",
    "parser = argparse.ArgumentParser(description='remapping of msa coordinates given a refeference sequence (also containded in the msa)')\n",
    "if(False):\n",
    "    parser.add_argument('-m','--msapath',required=True,help='msa file in fasta format')\n",
    "    parser.add_argument('-r','--refseq',required=True,help='reference sequence file in fasta format')\n",
    "    parser.add_argument('-o','--outputfile',required=True,help='output file *.csv')\n",
    "    parser.add_argument('-R','--refgenome',dest = 'refgenome',default ='NC_007605.1',help='Character, indicating genome version of reference to use. Default: \"NC_007605\"')\n",
    "\n",
    "    args = parser.parse_args()\n",
    "    msapath = args.msapath\n",
    "    refseq = args.refseq\n",
    "    outputfile = args.outputfile\n",
    "    refgenome = args.refgenome\n",
    "else:\n",
    "    msapath = '/data/EBV/msas/splited/sin_trimear/all150_sin_n.fas'\n",
    "    refseq = '/data/EBV/byACCIDs/NC_007605.fasta'\n",
    "    refgenome = 'NC_007605.1'\n",
    "    outputfile = '/data/EBV/msas/splited/sin_trimear/NC_007605_coordinates_in_alignment.csv'\n",
    "\n",
    "def ref2msa_mapper(ref,refInMsa):\n",
    "    mismach =[]\n",
    "    cumm_gaps = 0\n",
    "    mapper = {}\n",
    "    gapscounter = 0\n",
    "    for i in range(len(ref)):\n",
    "        if(ref[i] != refInMsa[i+cumm_gaps]):\n",
    "            gapscounter = gapscounter+1\n",
    "            mismach.append(i)\n",
    "            targ = ref[i]\n",
    "            while refInMsa[i+cumm_gaps]=='-':\n",
    "                cumm_gaps=cumm_gaps+1\n",
    "\n",
    "        mapper.update({i:i+cumm_gaps})\n",
    "    return({'mapp':mapper,'gapscounter':gapscounter,'cumm_maps':cumm_gaps})\n",
    "\n"
   ]
  },
  {
   "cell_type": "code",
   "execution_count": 6,
   "metadata": {},
   "outputs": [
    {
     "name": "stdout",
     "output_type": "stream",
     "text": [
      "selected sequence of msa NC_007605.1\n",
      "used reference genome NC_007605.1 \n"
     ]
    }
   ],
   "source": [
    "#######################################\n",
    "## extract reference sequence from mmsa\n",
    "msa = AlignIO.read(msapath,'fasta')\n",
    "ids_msa = [msa[i,0:5].id for i in range(len(msa))]\n",
    "ii = np.array(ids_msa) == refgenome\n",
    "j = np.where(ii)[0][0]\n",
    "refmsa = msa[j,:]\n",
    "refmsa = refmsa.upper()\n",
    "print 'selected sequence of msa %s'%refmsa.name\n",
    "\n",
    "#######################################\n",
    "## extract reference sequence from fasta file\n",
    "\n",
    "ref=SeqIO.read(refseq,'fasta')\n",
    "try:\n",
    "    refgenome = ref.id\n",
    "    print 'used reference genome %s '%refgenome\n",
    "except:\n",
    "    print 'your reference sequence do not have any Id. Please try passing with --refgenome option'\n",
    "    exit()\n",
    "ref=ref.upper()\n"
   ]
  },
  {
   "cell_type": "code",
   "execution_count": 3,
   "metadata": {},
   "outputs": [],
   "source": [
    "\n",
    "mapa = ref2msa_mapper(ref,refmsa)"
   ]
  },
  {
   "cell_type": "code",
   "execution_count": 4,
   "metadata": {},
   "outputs": [
    {
     "name": "stdout",
     "output_type": "stream",
     "text": [
      "number of gaps: 360\n",
      "mean size of gaps: 92.197\n"
     ]
    }
   ],
   "source": [
    "#################################################\n",
    "########   mapp coordinates ########\n",
    "mapa = ref2msa_mapper(ref,refmsa)\n",
    "mapdict = mapa['mapp']\n",
    "mapp = pd.Series(mapdict).to_frame().reset_index()\n",
    "mapp.columns =['refCoord','msaCoord']\n",
    "mapp = mapp+1\n",
    "print 'number of gaps: %s'%mapa['gapscounter']\n",
    "meanGapSize = np.round(mapa['cumm_maps']/float(mapa['gapscounter']),3)\n",
    "print 'mean size of gaps: %s'%meanGapSize\n",
    "\n",
    "\n",
    "#### write output ####\n",
    "#mapp.to_csv(outputfile,sep = '|',index=False)\n",
    "\n"
   ]
  },
  {
   "cell_type": "code",
   "execution_count": 49,
   "metadata": {},
   "outputs": [],
   "source": [
    "f = '/data/EBV/msas/splited/mapp_trimed_columns.txt'\n"
   ]
  },
  {
   "cell_type": "code",
   "execution_count": 51,
   "metadata": {},
   "outputs": [],
   "source": [
    "#trimmed_out = pd.read_csv(f,sep=',',header=None)\n",
    "trim_mapper = trimmed_out.transpose()\n",
    "trim_mapper.columns = ['old_msa_position']\n",
    "trim_mapper[trim_mapper=='#ColumnsMap\\t0'] =0\n",
    "trim_mapper.reset_index(inplace = True)\n",
    "trim_mapper.columns = ['position_in_trimmed_msa','position_in_original_msa']\n",
    "out = f+'.csv'\n",
    "trim_mapper.to_csv(out,index = False,sep ='|')"
   ]
  },
  {
   "cell_type": "code",
   "execution_count": 62,
   "metadata": {},
   "outputs": [
    {
     "data": {
      "text/html": [
       "<div>\n",
       "<style>\n",
       "    .dataframe thead tr:only-child th {\n",
       "        text-align: right;\n",
       "    }\n",
       "\n",
       "    .dataframe thead th {\n",
       "        text-align: left;\n",
       "    }\n",
       "\n",
       "    .dataframe tbody tr th {\n",
       "        vertical-align: top;\n",
       "    }\n",
       "</style>\n",
       "<table border=\"1\" class=\"dataframe\">\n",
       "  <thead>\n",
       "    <tr style=\"text-align: right;\">\n",
       "      <th></th>\n",
       "      <th>refCoord</th>\n",
       "      <th>msaCoord</th>\n",
       "    </tr>\n",
       "  </thead>\n",
       "  <tbody>\n",
       "    <tr>\n",
       "      <th>171818</th>\n",
       "      <td>171819</td>\n",
       "      <td>205010</td>\n",
       "    </tr>\n",
       "    <tr>\n",
       "      <th>171819</th>\n",
       "      <td>171820</td>\n",
       "      <td>205011</td>\n",
       "    </tr>\n",
       "    <tr>\n",
       "      <th>171820</th>\n",
       "      <td>171821</td>\n",
       "      <td>205012</td>\n",
       "    </tr>\n",
       "    <tr>\n",
       "      <th>171821</th>\n",
       "      <td>171822</td>\n",
       "      <td>205013</td>\n",
       "    </tr>\n",
       "    <tr>\n",
       "      <th>171822</th>\n",
       "      <td>171823</td>\n",
       "      <td>205014</td>\n",
       "    </tr>\n",
       "  </tbody>\n",
       "</table>\n",
       "</div>"
      ],
      "text/plain": [
       "        refCoord  msaCoord\n",
       "171818    171819    205010\n",
       "171819    171820    205011\n",
       "171820    171821    205012\n",
       "171821    171822    205013\n",
       "171822    171823    205014"
      ]
     },
     "execution_count": 62,
     "metadata": {},
     "output_type": "execute_result"
    }
   ],
   "source": [
    "mapp_to_reference = pd.read_csv('/data/EBV/msas/splited/sin_trimear/sin_trimear_mapp_coordinates_to_NC007605.csv',sep = '|')\n",
    "mapp_to_reference.tail()"
   ]
  },
  {
   "cell_type": "code",
   "execution_count": 61,
   "metadata": {},
   "outputs": [
    {
     "data": {
      "text/html": [
       "<div>\n",
       "<style>\n",
       "    .dataframe thead tr:only-child th {\n",
       "        text-align: right;\n",
       "    }\n",
       "\n",
       "    .dataframe thead th {\n",
       "        text-align: left;\n",
       "    }\n",
       "\n",
       "    .dataframe tbody tr th {\n",
       "        vertical-align: top;\n",
       "    }\n",
       "</style>\n",
       "<table border=\"1\" class=\"dataframe\">\n",
       "  <thead>\n",
       "    <tr style=\"text-align: right;\">\n",
       "      <th></th>\n",
       "      <th>position_in_trimmed_msa</th>\n",
       "      <th>position_in_original_msa</th>\n",
       "    </tr>\n",
       "  </thead>\n",
       "  <tbody>\n",
       "    <tr>\n",
       "      <th>177464</th>\n",
       "      <td>177464</td>\n",
       "      <td>205034</td>\n",
       "    </tr>\n",
       "    <tr>\n",
       "      <th>177465</th>\n",
       "      <td>177465</td>\n",
       "      <td>205035</td>\n",
       "    </tr>\n",
       "    <tr>\n",
       "      <th>177466</th>\n",
       "      <td>177466</td>\n",
       "      <td>205036</td>\n",
       "    </tr>\n",
       "    <tr>\n",
       "      <th>177467</th>\n",
       "      <td>177467</td>\n",
       "      <td>205037</td>\n",
       "    </tr>\n",
       "    <tr>\n",
       "      <th>177468</th>\n",
       "      <td>177468</td>\n",
       "      <td>205040</td>\n",
       "    </tr>\n",
       "  </tbody>\n",
       "</table>\n",
       "</div>"
      ],
      "text/plain": [
       "        position_in_trimmed_msa position_in_original_msa\n",
       "177464                   177464                   205034\n",
       "177465                   177465                   205035\n",
       "177466                   177466                   205036\n",
       "177467                   177467                   205037\n",
       "177468                   177468                   205040"
      ]
     },
     "execution_count": 61,
     "metadata": {},
     "output_type": "execute_result"
    }
   ],
   "source": [
    "trim_mapper.tail()"
   ]
  },
  {
   "cell_type": "code",
   "execution_count": 81,
   "metadata": {},
   "outputs": [],
   "source": [
    "trim_to_ref = pd.merge(mapp_to_reference,trim_mapper,how = 'inner',left_on='msaCoord',\n",
    "                       right_on='position_in_original_msa').drop('position_in_original_msa',axis = 1)\n",
    "\n",
    "trim_to_ref.to_csv('/data/EBV/msas/splited/trim_2_ref.csv',sep ='|',index =False)"
   ]
  },
  {
   "cell_type": "code",
   "execution_count": 82,
   "metadata": {},
   "outputs": [
    {
     "name": "stdout",
     "output_type": "stream",
     "text": [
      "se perdieron 96 posiciones del genoma de referencia\n",
      "0.00056\n"
     ]
    }
   ],
   "source": [
    "lost_positions = trim_to_ref.refCoord.iloc[-1] -trim_to_ref.shape[0]\n",
    "print 'se perdieron %s posiciones del genoma de referencia'%lost_positions\n",
    "print np.round(lost_positions/float(mapp_to_reference.shape[0]),5)\n"
   ]
  },
  {
   "cell_type": "code",
   "execution_count": null,
   "metadata": {},
   "outputs": [],
   "source": []
  }
 ],
 "metadata": {
  "kernelspec": {
   "display_name": "Python 2",
   "language": "python",
   "name": "python2"
  },
  "language_info": {
   "codemirror_mode": {
    "name": "ipython",
    "version": 2
   },
   "file_extension": ".py",
   "mimetype": "text/x-python",
   "name": "python",
   "nbconvert_exporter": "python",
   "pygments_lexer": "ipython2",
   "version": "2.7.12"
  }
 },
 "nbformat": 4,
 "nbformat_minor": 2
}
